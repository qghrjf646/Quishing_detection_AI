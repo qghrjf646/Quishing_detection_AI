{
  "nbformat": 4,
  "nbformat_minor": 0,
  "metadata": {
    "colab": {
      "provenance": [],
      "gpuType": "T4",
      "authorship_tag": "ABX9TyMm/46Fif26GZogpfCAgT5e",
      "include_colab_link": true
    },
    "kernelspec": {
      "name": "python3",
      "display_name": "Python 3"
    },
    "language_info": {
      "name": "python"
    },
    "accelerator": "GPU"
  },
  "cells": [
    {
      "cell_type": "markdown",
      "metadata": {
        "id": "view-in-github",
        "colab_type": "text"
      },
      "source": [
        "<a href=\"https://colab.research.google.com/github/qghrjf646/Quishing_detection_AI/blob/main/QR_code_classification.ipynb\" target=\"_parent\"><img src=\"https://colab.research.google.com/assets/colab-badge.svg\" alt=\"Open In Colab\"/></a>"
      ]
    },
    {
      "cell_type": "code",
      "execution_count": null,
      "metadata": {
        "id": "lPw4gJgx759F"
      },
      "outputs": [],
      "source": [
        "import torch\n",
        "import torch.nn as nn\n",
        "import torch.nn.functional as F\n",
        "import torch.optim as optim\n",
        "from torchvision import datasets, transforms\n",
        "from torch.utils.data import DataLoader\n",
        "import os\n",
        "from sklearn.model_selection import train_test_split\n",
        "\n",
        "import numpy as np\n",
        "import pandas as pd\n",
        "import matplotlib.pyplot as plt"
      ]
    },
    {
      "cell_type": "code",
      "source": [
        "# Loading PNG images from a folders into tensors\n",
        "\n",
        "#benign_folder = \"/content/1000 QR Images of Malicious and Benign QR codes 2025/benign_qr_images_500\"\n",
        "#malicious_folder = \"/content/1000 QR Images of Malicious and Benign QR codes 2025/malicious_qr_images_500\"\n",
        "\n",
        "image_directory = \"/content/1000 QR Images of Malicious and Benign QR codes 2025\"\n",
        "\n",
        "image_transforms = transforms.Compose([\n",
        "      transforms.Resize((330, 330)), # Resize images to a consistent size\n",
        "      transforms.ToTensor(),         # Convert PIL Image or NumPy array to PyTorch Tensor\n",
        "  ])\n",
        "\n",
        "image_dataset = datasets.ImageFolder(root=image_directory, transform=image_transforms)\n",
        "image_trainset, image_testset = train_test_split(image_dataset, test_size=0.2, random_state=42)\n",
        "\n",
        "batch_size = 32\n",
        "image_loader = DataLoader(image_trainset, batch_size=batch_size, shuffle=True)\n",
        "\n",
        "test_loader = DataLoader(image_testset, batch_size=batch_size, shuffle=False)"
      ],
      "metadata": {
        "id": "ZnXZQQ2DKH_8"
      },
      "execution_count": null,
      "outputs": []
    },
    {
      "cell_type": "code",
      "source": [
        "for batch_idx, (images, labels) in enumerate(image_loader):\n",
        "      # 'images' is a PyTorch tensor containing a batch of images\n",
        "      # 'labels' is a PyTorch tensor containing the corresponding labels (if applicable)\n",
        "      print(f\"Batch {batch_idx}: Images tensor shape - {images.shape}\")"
      ],
      "metadata": {
        "colab": {
          "base_uri": "https://localhost:8080/"
        },
        "id": "Elo1vJBMLw9R",
        "outputId": "a79611fc-7a49-475c-ad18-05792ce992dc"
      },
      "execution_count": null,
      "outputs": [
        {
          "output_type": "stream",
          "name": "stdout",
          "text": [
            "Batch 0: Images tensor shape - torch.Size([32, 3, 330, 330])\n",
            "Batch 1: Images tensor shape - torch.Size([32, 3, 330, 330])\n",
            "Batch 2: Images tensor shape - torch.Size([32, 3, 330, 330])\n",
            "Batch 3: Images tensor shape - torch.Size([32, 3, 330, 330])\n",
            "Batch 4: Images tensor shape - torch.Size([32, 3, 330, 330])\n",
            "Batch 5: Images tensor shape - torch.Size([32, 3, 330, 330])\n",
            "Batch 6: Images tensor shape - torch.Size([32, 3, 330, 330])\n",
            "Batch 7: Images tensor shape - torch.Size([32, 3, 330, 330])\n",
            "Batch 8: Images tensor shape - torch.Size([32, 3, 330, 330])\n",
            "Batch 9: Images tensor shape - torch.Size([32, 3, 330, 330])\n",
            "Batch 10: Images tensor shape - torch.Size([32, 3, 330, 330])\n",
            "Batch 11: Images tensor shape - torch.Size([32, 3, 330, 330])\n",
            "Batch 12: Images tensor shape - torch.Size([32, 3, 330, 330])\n",
            "Batch 13: Images tensor shape - torch.Size([32, 3, 330, 330])\n",
            "Batch 14: Images tensor shape - torch.Size([32, 3, 330, 330])\n",
            "Batch 15: Images tensor shape - torch.Size([32, 3, 330, 330])\n",
            "Batch 16: Images tensor shape - torch.Size([32, 3, 330, 330])\n",
            "Batch 17: Images tensor shape - torch.Size([32, 3, 330, 330])\n",
            "Batch 18: Images tensor shape - torch.Size([32, 3, 330, 330])\n",
            "Batch 19: Images tensor shape - torch.Size([32, 3, 330, 330])\n",
            "Batch 20: Images tensor shape - torch.Size([32, 3, 330, 330])\n",
            "Batch 21: Images tensor shape - torch.Size([32, 3, 330, 330])\n",
            "Batch 22: Images tensor shape - torch.Size([32, 3, 330, 330])\n",
            "Batch 23: Images tensor shape - torch.Size([32, 3, 330, 330])\n",
            "Batch 24: Images tensor shape - torch.Size([32, 3, 330, 330])\n"
          ]
        }
      ]
    },
    {
      "cell_type": "code",
      "source": [
        "class Classification_Conv_NN(nn.Module):\n",
        "  def __init__(self):\n",
        "    super(Classification_Conv_NN, self).__init__()\n",
        "    self.conv1 = nn.Conv2d(3, 32, kernel_size=3, stride=1, padding=1)\n",
        "    self.conv2 = nn.Conv2d(32, 64, kernel_size=3, stride=1, padding=1)\n",
        "    self.pool = nn.MaxPool2d(kernel_size=2, stride=2)\n",
        "    self.fc1 = nn.Linear(64 * 82 * 82, 128)\n",
        "    self.fc2 = nn.Linear(128, 1)\n",
        "\n",
        "  def forward(self, x):\n",
        "    x = self.pool(F.relu(self.conv1(x)))\n",
        "    x = self.pool(F.relu(self.conv2(x)))\n",
        "    x = x.view(-1, 64 * 82 * 82)\n",
        "    x = F.relu(self.fc1(x))\n",
        "    x = self.fc2(x)\n",
        "    return x"
      ],
      "metadata": {
        "id": "a2cw4RjeMFpY"
      },
      "execution_count": null,
      "outputs": []
    },
    {
      "cell_type": "code",
      "source": [
        "model = Classification_Conv_NN()"
      ],
      "metadata": {
        "id": "lSAvNrQ0OeBj"
      },
      "execution_count": null,
      "outputs": []
    },
    {
      "cell_type": "code",
      "source": [
        "criterion = nn.BCEWithLogitsLoss()\n",
        "optimizer = torch.optim.Adam(model.parameters(), lr=0.001)"
      ],
      "metadata": {
        "id": "u6BGJoBmOoml"
      },
      "execution_count": null,
      "outputs": []
    },
    {
      "cell_type": "code",
      "source": [
        "model"
      ],
      "metadata": {
        "colab": {
          "base_uri": "https://localhost:8080/"
        },
        "id": "PyhnC5GwPZ_g",
        "outputId": "c9e3a412-f9c7-482e-d021-d441481fed8c"
      },
      "execution_count": null,
      "outputs": [
        {
          "output_type": "execute_result",
          "data": {
            "text/plain": [
              "Classification_Conv_NN(\n",
              "  (conv1): Conv2d(3, 32, kernel_size=(3, 3), stride=(1, 1), padding=(1, 1))\n",
              "  (conv2): Conv2d(32, 64, kernel_size=(3, 3), stride=(1, 1), padding=(1, 1))\n",
              "  (pool): MaxPool2d(kernel_size=2, stride=2, padding=0, dilation=1, ceil_mode=False)\n",
              "  (fc1): Linear(in_features=430336, out_features=128, bias=True)\n",
              "  (fc2): Linear(in_features=128, out_features=1, bias=True)\n",
              ")"
            ]
          },
          "metadata": {},
          "execution_count": 71
        }
      ]
    },
    {
      "cell_type": "code",
      "source": [
        "device = torch.device(\"cuda\" if torch.cuda.is_available() else \"cpu\")\n",
        "model.to(device)"
      ],
      "metadata": {
        "colab": {
          "base_uri": "https://localhost:8080/"
        },
        "id": "Df0o1o0YT-7X",
        "outputId": "2d7cab87-a90c-4f59-eaa5-284d90fa4a66"
      },
      "execution_count": null,
      "outputs": [
        {
          "output_type": "execute_result",
          "data": {
            "text/plain": [
              "Classification_Conv_NN(\n",
              "  (conv1): Conv2d(3, 32, kernel_size=(3, 3), stride=(1, 1), padding=(1, 1))\n",
              "  (conv2): Conv2d(32, 64, kernel_size=(3, 3), stride=(1, 1), padding=(1, 1))\n",
              "  (pool): MaxPool2d(kernel_size=2, stride=2, padding=0, dilation=1, ceil_mode=False)\n",
              "  (fc1): Linear(in_features=430336, out_features=128, bias=True)\n",
              "  (fc2): Linear(in_features=128, out_features=1, bias=True)\n",
              ")"
            ]
          },
          "metadata": {},
          "execution_count": 72
        }
      ]
    },
    {
      "cell_type": "code",
      "source": [
        "# Training\n",
        "\n",
        "# Defining variables\n",
        "epochs = 10\n",
        "losses = []\n",
        "\n",
        "# Training loop\n",
        "for epoch in range(epochs):\n",
        "    for batch_idx, (images, labels) in enumerate(image_loader):\n",
        "        images, labels = images.to(device), labels.to(device)\n",
        "        optimizer.zero_grad()\n",
        "        outputs = model(images)\n",
        "        loss = criterion(outputs.squeeze(), labels.float())\n",
        "        loss.backward()\n",
        "        optimizer.step()\n",
        "        losses.append(loss.item())\n",
        "    print(f\"Epoch {epoch+1}/{epochs}, Loss: {loss.item()}\")"
      ],
      "metadata": {
        "colab": {
          "base_uri": "https://localhost:8080/"
        },
        "id": "4rWjUS2NPfnF",
        "outputId": "1b19f393-662b-4890-da26-0541e213a92f"
      },
      "execution_count": null,
      "outputs": [
        {
          "output_type": "stream",
          "name": "stdout",
          "text": [
            "Epoch 1/10, Loss: 0.4358364939689636\n",
            "Epoch 2/10, Loss: 0.5641852021217346\n",
            "Epoch 3/10, Loss: 0.29927098751068115\n",
            "Epoch 4/10, Loss: 0.38086608052253723\n",
            "Epoch 5/10, Loss: 0.36125990748405457\n",
            "Epoch 6/10, Loss: 0.19887368381023407\n",
            "Epoch 7/10, Loss: 0.07671874761581421\n",
            "Epoch 8/10, Loss: 0.01778755895793438\n",
            "Epoch 9/10, Loss: 0.13163986802101135\n",
            "Epoch 10/10, Loss: 0.036784835159778595\n"
          ]
        }
      ]
    },
    {
      "cell_type": "code",
      "source": [
        "# Evaluation\n",
        "\n",
        "model.eval() # Set the model to evaluation mode\n",
        "\n",
        "with torch.no_grad(): # Disable gradient calculation\n",
        "    correct = 0\n",
        "    total = 0\n",
        "    for images, labels in test_loader:\n",
        "        images, labels = images.to(device), labels.to(device)\n",
        "        outputs = model(images)\n",
        "        predicted = (outputs.squeeze() > 0.5).long() # Apply threshold and convert to long\n",
        "\n",
        "        total += labels.size(0)\n",
        "        correct += (predicted == labels).sum().item()\n",
        "\n",
        "    accuracy = 100 * correct / total\n",
        "    print(f\"Accuracy on the test set: {accuracy:.2f}%\")"
      ],
      "metadata": {
        "colab": {
          "base_uri": "https://localhost:8080/"
        },
        "id": "CeM69dlhR5u8",
        "outputId": "1003a996-1d0d-44d8-878f-bfc07c976d61"
      },
      "execution_count": null,
      "outputs": [
        {
          "output_type": "stream",
          "name": "stdout",
          "text": [
            "Accuracy on the test set: 88.50%\n"
          ]
        }
      ]
    },
    {
      "cell_type": "code",
      "source": [
        "# Save the model\n",
        "torch.save(model.state_dict(), 'classification_conv_nn.pth')\n",
        "print(\"Model saved successfully!\")"
      ],
      "metadata": {
        "colab": {
          "base_uri": "https://localhost:8080/"
        },
        "id": "dSUELBNzUgjJ",
        "outputId": "3b123e78-6eca-4dcb-b6ea-888b5ea425c9"
      },
      "execution_count": null,
      "outputs": [
        {
          "output_type": "stream",
          "name": "stdout",
          "text": [
            "Model saved successfully!\n"
          ]
        }
      ]
    }
  ]
}